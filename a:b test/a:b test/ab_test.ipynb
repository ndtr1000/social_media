{
 "cells": [
  {
   "cell_type": "markdown",
   "id": "27009f63-12b9-45cd-a605-31be39890c3e",
   "metadata": {},
   "source": [
    "# Анализ результата АВ теста\n",
    "\n",
    "\n",
    "В нашем эксперименте проверялась эффективность рекомендательной системы постов для пользователей. Задача стояла повышение конверсии лайков к постам. Исследуемая метрика была выбрана `ctr`, т.к. она количественно отображает отношение лайкнутых постов к проссмотренным. Эксперимент проводился с `1 мая 2023 года` по `7 мая 2023 года`.  В ходе эксперимента использовались две группы: `группа №1` - контрольная группа, `группа №2` - целевая группа. \n",
    "\n",
    "Нулевая гипотеза `H0`: различия в `ctr` между дву группами нет\n",
    "\n",
    "Альтернативная гипотеза `H1`: различия в `ctr` между группами есть\n",
    "\n",
    "***Задача:*** провести анализ результатов теста"
   ]
  },
  {
   "cell_type": "markdown",
   "id": "35fd8ab8-1ef4-4a1a-bf35-ad91b01640bc",
   "metadata": {},
   "source": [
    "---"
   ]
  },
  {
   "cell_type": "markdown",
   "id": "a5ee7720-844e-46c1-8a8f-70a66dfa8d66",
   "metadata": {},
   "source": [
    "Импортируем необходимые библиотеки"
   ]
  },
  {
   "cell_type": "code",
   "execution_count": 1,
   "id": "30f595f5-3ba7-4d5c-98f5-e9cc9c74ebf5",
   "metadata": {
    "tags": []
   },
   "outputs": [],
   "source": [
    "import pandahouse as ph \n",
    "import pandas as pd \n",
    "import matplotlib.pyplot as plt \n",
    "import numpy as np\n",
    "import seaborn as sns \n",
    "from scipy import stats \n",
    "%matplotlib inline"
   ]
  },
  {
   "cell_type": "markdown",
   "id": "417dccdc-6b42-49f5-8c30-2eec22de24aa",
   "metadata": {},
   "source": [
    "Выполняем подключение к БД.\n",
    "\n",
    "Извлекаем из БД пользователя, его группу, его количество лайков, количество просмотренных постов, `ctr`. Результат записываем в `DataFrame`"
   ]
  },
  {
   "cell_type": "code",
   "execution_count": 2,
   "id": "8af7847d-b028-44d5-a687-5f9d5e1d2b98",
   "metadata": {},
   "outputs": [],
   "source": [
    "connection = {\n",
    "                'host': 'https://clickhouse.lab.karpov.courses',\n",
    "                'database':'simulator_20230520',\n",
    "                'user':'student', \n",
    "                'password':'dpo_python_2020'\n",
    "            }\n",
    "\n",
    "\n",
    "q = '''\n",
    "SELECT exp_group, \n",
    "    user_id,\n",
    "    sum(action = 'like') as likes,\n",
    "    sum(action = 'view') as views,\n",
    "    likes/views as ctr\n",
    "FROM {db}.feed_actions \n",
    "WHERE toDate(time) between '2023-05-01' and '2023-05-07'\n",
    "    and exp_group in (1,2)\n",
    "GROUP BY exp_group, user_id\n",
    "'''\n",
    "\n",
    "# Выполняем запрос к БД\n",
    "df = ph.read_clickhouse(q, connection=connection)"
   ]
  },
  {
   "cell_type": "markdown",
   "id": "319f10cf-4f78-4e1e-83ed-2812d39579f1",
   "metadata": {},
   "source": [
    "Посмотрим на общий `ctr` в двух группам, имеются ли там различия"
   ]
  },
  {
   "cell_type": "code",
   "execution_count": 5,
   "id": "05cd2284-8585-48c2-b21f-37212564d226",
   "metadata": {},
   "outputs": [
    {
     "name": "stdout",
     "output_type": "stream",
     "text": [
      "ctr 1 группы: 0.208\n",
      "ctr 2 группы 0.198\n"
     ]
    }
   ],
   "source": [
    "ctr_1 = df[df['exp_group']==1]['likes'].sum() / df[df['exp_group']==1]['views'].sum()\n",
    "ctr_2 = df[df['exp_group']==2]['likes'].sum() / df[df['exp_group']==2]['views'].sum()\n",
    "\n",
    "\n",
    "print(f'ctr 1 группы: {round(ctr_1,3)}\\nctr 2 группы {round(ctr_2,3)}')"
   ]
  },
  {
   "cell_type": "markdown",
   "id": "b16e7ff0-8f7b-4e34-b005-eb3810d6d7e7",
   "metadata": {},
   "source": [
    "Как мы видим, `ctr` целевой группы получился меньше, теперь мы хотим убедиться, являются ли полученные результаты статистически значемыми или получены случайно"
   ]
  },
  {
   "cell_type": "markdown",
   "id": "53c4610a-8baf-47ef-8da9-b8dfa15968df",
   "metadata": {
    "tags": []
   },
   "source": [
    "Посмотрим на количество участников в группах"
   ]
  },
  {
   "cell_type": "code",
   "execution_count": 4,
   "id": "6ef13117-b87a-4b7e-b77a-c1a7fa073257",
   "metadata": {},
   "outputs": [
    {
     "data": {
      "text/html": [
       "<div>\n",
       "<style scoped>\n",
       "    .dataframe tbody tr th:only-of-type {\n",
       "        vertical-align: middle;\n",
       "    }\n",
       "\n",
       "    .dataframe tbody tr th {\n",
       "        vertical-align: top;\n",
       "    }\n",
       "\n",
       "    .dataframe thead th {\n",
       "        text-align: right;\n",
       "    }\n",
       "</style>\n",
       "<table border=\"1\" class=\"dataframe\">\n",
       "  <thead>\n",
       "    <tr style=\"text-align: right;\">\n",
       "      <th></th>\n",
       "      <th>user_id</th>\n",
       "      <th>likes</th>\n",
       "      <th>views</th>\n",
       "      <th>ctr</th>\n",
       "    </tr>\n",
       "    <tr>\n",
       "      <th>exp_group</th>\n",
       "      <th></th>\n",
       "      <th></th>\n",
       "      <th></th>\n",
       "      <th></th>\n",
       "    </tr>\n",
       "  </thead>\n",
       "  <tbody>\n",
       "    <tr>\n",
       "      <th>1</th>\n",
       "      <td>10079</td>\n",
       "      <td>10079</td>\n",
       "      <td>10079</td>\n",
       "      <td>10079</td>\n",
       "    </tr>\n",
       "    <tr>\n",
       "      <th>2</th>\n",
       "      <td>9952</td>\n",
       "      <td>9952</td>\n",
       "      <td>9952</td>\n",
       "      <td>9952</td>\n",
       "    </tr>\n",
       "  </tbody>\n",
       "</table>\n",
       "</div>"
      ],
      "text/plain": [
       "           user_id  likes  views    ctr\n",
       "exp_group                              \n",
       "1            10079  10079  10079  10079\n",
       "2             9952   9952   9952   9952"
      ]
     },
     "execution_count": 4,
     "metadata": {},
     "output_type": "execute_result"
    }
   ],
   "source": [
    "df.groupby('exp_group').count()"
   ]
  },
  {
   "cell_type": "markdown",
   "id": "ca894716-6f8d-4add-878b-607571977a60",
   "metadata": {},
   "source": [
    "Посмотрим на распределение `ctr` двух групп"
   ]
  },
  {
   "cell_type": "code",
   "execution_count": 15,
   "id": "501efa23-486b-4159-9741-d58ba72713dc",
   "metadata": {},
   "outputs": [
    {
     "data": {
      "image/png": "[encoded data removed]",
      "text/plain": [
       "<Figure size 936x576 with 1 Axes>"
      ]
     },
     "metadata": {},
     "output_type": "display_data"
    }
   ],
   "source": [
    "fig, ax = plt.subplots(figsize=(13, 8))\n",
    "sns.set_theme()\n",
    "g = sns.histplot(df[df['exp_group']==1]['ctr'], color='blue', alpha=0.5, label='группа №1')\n",
    "g = sns.histplot(df[df['exp_group']==2]['ctr'], color='red', alpha=0.5, label='группа №2')\n",
    "plt.title(\"Распределение ctr двух групп\")\n",
    "plt.xlabel(\"ctr\")\n",
    "plt.legend()\n",
    "plt.show()"
   ]
  },
  {
   "cell_type": "markdown",
   "id": "157e2ca8-fcce-44a3-bdb5-4d02077dc178",
   "metadata": {},
   "source": [
    "Визуально трудно определить, имеются ли различию между группами, т.к. характер распределения `ctr` второй группы бимодальный"
   ]
  },
  {
   "cell_type": "markdown",
   "id": "58765363-4ea6-46ae-b5ca-0d3d603abdb1",
   "metadata": {},
   "source": [
    "### t-тест\n",
    "\n",
    "Запустим t-тест для выяснения, имеются ли отличия между группами"
   ]
  },
  {
   "cell_type": "code",
   "execution_count": 17,
   "id": "ff1ab3f3-f230-42d5-a5df-06f1981922f2",
   "metadata": {},
   "outputs": [
    {
     "data": {
      "text/plain": [
       "Ttest_indResult(statistic=0.7094392041270485, pvalue=0.4780623130874935)"
      ]
     },
     "execution_count": 17,
     "metadata": {},
     "output_type": "execute_result"
    }
   ],
   "source": [
    "group_1 = df[df['exp_group']==1]['ctr']\n",
    "group_2 = df[df['exp_group']==2]['ctr']\n",
    "stats.ttest_ind(group_1, group_2, equal_var=False)"
   ]
  },
  {
   "cell_type": "markdown",
   "id": "ee54a206-ed61-453f-8c30-be95681900fb",
   "metadata": {},
   "source": [
    "***Вывод:*** в результате теста уровень `p-value` получился `~47%`, что означает у нас недостаточно оснований отклонить нулевую гипотезу, что означает различий между группами нет.\n",
    "\n",
    "Дополнительно стоит провести тест Пуассоновского бутстрепа, чтобы убедится в полученных результатах"
   ]
  },
  {
   "cell_type": "markdown",
   "id": "c7fec347-9481-47af-b539-69af1c5ce6de",
   "metadata": {},
   "source": [
    "### Пуассоновский бутстреп "
   ]
  },
  {
   "cell_type": "markdown",
   "id": "5c0c2e1c-c8ce-43e9-ad1d-2aee180819cb",
   "metadata": {},
   "source": [
    "Сравним `ctr` для двух групп: \n",
    "\n",
    "1. Возьмем выборку наших пользователей из группы А, нас интересуют их лайки и просмотры для подсчета `ctr`\n",
    "2. Генерируем для выборки А, для каждого пользователя, сколько раз он попал в выборку, т.е. его вес\n",
    "3. Считаем глобальный `ctr` для этой группы\n",
    "4. Берем выборку наших пользователей из группы В, их лайки и просмотры\n",
    "5. Генерируем для выборки В, для каждого пользователя, сколько раз он попадает в выборку, т.е. его вес\n",
    "6. Считаем глобальный `ctr` для этой группы\n",
    "7. Сравниваем два получивших `ctr`\n",
    "8. Будем повторять эксперимент большой количество раз"
   ]
  },
  {
   "cell_type": "markdown",
   "id": "e50b2694-707c-4e00-91ac-f7eec57f4b41",
   "metadata": {},
   "source": [
    "Берем лайки и просмотры них двух групп"
   ]
  },
  {
   "cell_type": "code",
   "execution_count": 26,
   "id": "8a0a98e1-4087-42ac-aec0-be5fe9179bf2",
   "metadata": {},
   "outputs": [],
   "source": [
    "likes1 = df[df['exp_group'] == 1]['likes'].to_numpy()\n",
    "views1 = df[df['exp_group'] == 1]['views'].to_numpy()\n",
    "likes2 = df[df['exp_group'] == 2]['likes'].to_numpy()\n",
    "views2 = df[df['exp_group'] == 2]['views'].to_numpy()"
   ]
  },
  {
   "cell_type": "markdown",
   "id": "af309a1a-f098-43b5-8de1-e558cc9fb869",
   "metadata": {},
   "source": [
    "Определим функцию для сравнения ctr двух групп. Функцию принимает лайки и просмотры двух групп и количество повторений эксперимента\n",
    "\n",
    "Функция рассчитывает веса для каждого пользователя, для выборок размером `n`. Находит глобальный `ctr` для каждой полившейся группы: сумма лайков пользователей из группы * веса каждого пользователя в этой группе / сумма просмотров пользователей из группы * веса каждого пользователя в этой группе\n",
    "\n",
    "Результат функции: `n` глобальных `ctr` для каждой группы"
   ]
  },
  {
   "cell_type": "code",
   "execution_count": 27,
   "id": "fb6a5381-083f-40d6-a0ca-5fdabcebce42",
   "metadata": {},
   "outputs": [],
   "source": [
    "def bootstrap(likes1, views1, likes2, views2, n_bootstrap=2000):\n",
    "\n",
    "    poisson_bootstraps1 = stats.poisson(1).rvs(\n",
    "        (n_bootstrap, len(likes1))).astype(np.int64)\n",
    "\n",
    "    poisson_bootstraps2 = stats.poisson(1).rvs(\n",
    "            (n_bootstrap, len(likes2))).astype(np.int64)\n",
    "    \n",
    "    globalCTR1 = (poisson_bootstraps1*likes1).sum(axis=1)/(poisson_bootstraps1*views1).sum(axis=1)\n",
    "    \n",
    "    globalCTR2 = (poisson_bootstraps2*likes2).sum(axis=1)/(poisson_bootstraps2*views2).sum(axis=1)\n",
    "\n",
    "    return globalCTR1, globalCTR2\n",
    "\n",
    "\n",
    "ctr1, ctr2 = bootstrap(likes1, views1, likes2, views2)"
   ]
  },
  {
   "cell_type": "markdown",
   "id": "b5956bdf-555f-47d9-93a5-0538bf40b921",
   "metadata": {},
   "source": [
    "Выполним визуализацию `ctr` двух групп"
   ]
  },
  {
   "cell_type": "code",
   "execution_count": 28,
   "id": "43ea2ea0-a65b-4287-b063-9d5afebacfaf",
   "metadata": {},
   "outputs": [
    {
     "data": {
      "image/png": "[encoded data removed]",
      "text/plain": [
       "<Figure size 936x576 with 1 Axes>"
      ]
     },
     "metadata": {
      "needs_background": "light"
     },
     "output_type": "display_data"
    }
   ],
   "source": [
    "fig, ax = plt.subplots(figsize=(13, 8))\n",
    "sns.set_theme()\n",
    "g = sns.histplot(ctr1, color='blue', alpha=0.5, label='группа №1')\n",
    "g = sns.histplot(ctr2, color='red', alpha=0.5, label='группа №2')\n",
    "plt.xlabel(\"ctr\")\n",
    "plt.legend()\n",
    "plt.show()"
   ]
  },
  {
   "cell_type": "markdown",
   "id": "c4906b56-9cfa-4264-b29d-b1bd4a9f14cf",
   "metadata": {},
   "source": [
    "***Вывод:*** как мы видим, получившиеся `ctr` целевой группы меньше, чем `ctr` контрольной группы. "
   ]
  },
  {
   "cell_type": "markdown",
   "id": "274c231c-e371-4a7e-ba0b-1ad0e9bc5905",
   "metadata": {},
   "source": [
    "---"
   ]
  },
  {
   "cell_type": "markdown",
   "id": "e60b0573-810c-4ce9-b66a-fde2764f9724",
   "metadata": {},
   "source": [
    "### Выводы АВ теста\n",
    "\n",
    "В результате проведенного АВ теста для двух групп по сравнению эффективности рекомендательной системы были проведены два теста: `t-тест` и `Пуассоновский бутстреп`. \n",
    "\n",
    "В ходе первого тестирования было выявленно, что в случае введения новой системы рекомендаци недостаточно оснований пологать, что различия между группами статистически значемы. Т Для подтверждения результатов был дополнительно выбран метод сравнения - Пуассоновский бутстреп. Резульаты которого подтвердили результаты первого теста."
   ]
  },
  {
   "cell_type": "markdown",
   "id": "da69161d-c9a3-4666-958b-e77330f8595b",
   "metadata": {},
   "source": [
    "---"
   ]
  }
 ],
 "metadata": {
  "kernelspec": {
   "display_name": "Python 3 (ipykernel)",
   "language": "python",
   "name": "python3"
  },
  "language_info": {
   "codemirror_mode": {
    "name": "ipython",
    "version": 3
   },
   "file_extension": ".py",
   "mimetype": "text/x-python",
   "name": "python",
   "nbconvert_exporter": "python",
   "pygments_lexer": "ipython3",
   "version": "3.8.10"
  }
 },
 "nbformat": 4,
 "nbformat_minor": 5
}
