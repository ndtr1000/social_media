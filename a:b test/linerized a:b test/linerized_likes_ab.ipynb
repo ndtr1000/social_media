{
 "cells": [
  {
   "cell_type": "markdown",
   "id": "c7c1b448-d64f-4904-939f-0c45d5028e70",
   "metadata": {},
   "source": [
    "### Анализ результатов АВ тестов двух рекомендательных систем\n",
    "\n",
    "В данном иследовании проводится тестирование двух рекомендательных систем.\n",
    "\n",
    "Первая рекомендательная система тестировалась на группе 2, контрольная группа была 1\n",
    "\n",
    "Вторая рекомендательная система тестировалась на группе 3, контрольная группы была 0\n",
    "\n",
    "Даты эксперимента: с 1 мая 2023 года по 7 мая 2023 года\n",
    "\n",
    "Задача: определить имеются ли различия в ctr между группами тестирования и контрольной"
   ]
  },
  {
   "cell_type": "markdown",
   "id": "3d64fd58-ff46-4478-b1a0-9007c1d4e1c6",
   "metadata": {},
   "source": [
    "---"
   ]
  },
  {
   "cell_type": "markdown",
   "id": "c81fd92a-2cee-4fed-bdb2-e804fbbf5fd0",
   "metadata": {},
   "source": [
    "#### Анализ результатов между группами 1 и 2"
   ]
  },
  {
   "cell_type": "code",
   "execution_count": 1,
   "id": "9708e67f-8d8f-4644-99c3-456ac81aba15",
   "metadata": {},
   "outputs": [],
   "source": [
    "import pandahouse as ph \n",
    "import pandas as pd \n",
    "import matplotlib.pyplot as plt \n",
    "import numpy as np\n",
    "import seaborn as sns \n",
    "from scipy import stats \n",
    "%matplotlib inline"
   ]
  },
  {
   "cell_type": "code",
   "execution_count": 2,
   "id": "fb81d588-23bf-48e2-ade1-3720a2b3700e",
   "metadata": {},
   "outputs": [],
   "source": [
    "connection = {\n",
    "                'host': 'https://clickhouse.lab.karpov.courses',\n",
    "                'database':'simulator_20230520',\n",
    "                'user':'student', \n",
    "                'password':'dpo_python_2020'\n",
    "            }\n",
    "\n",
    "\n",
    "q = '''\n",
    "SELECT exp_group, \n",
    "    user_id,\n",
    "    sum(action = 'like') as likes,\n",
    "    sum(action = 'view') as views,\n",
    "    likes/views as ctr\n",
    "FROM {db}.feed_actions \n",
    "WHERE toDate(time) between '2023-05-01' and '2023-05-07'\n",
    "    and exp_group in (1,2)\n",
    "GROUP BY exp_group, user_id\n",
    "'''\n",
    "\n",
    "# Выполняем запрос к БД\n",
    "df_1_2 = ph.read_clickhouse(q, connection=connection)"
   ]
  },
  {
   "cell_type": "markdown",
   "id": "9d57ea09-736d-4b51-aa07-87b4a0905b0f",
   "metadata": {},
   "source": [
    "Посчитаем общий ctr в контрольной группеПосчитаем общий ctr в контрольной группе"
   ]
  },
  {
   "cell_type": "code",
   "execution_count": 3,
   "id": "dab94200-6782-4f13-9795-39e2eaeb4f36",
   "metadata": {},
   "outputs": [],
   "source": [
    "ctr_control_1 = df_1_2[df_1_2['exp_group']==1]['likes'].sum() / df_1_2[df_1_2['exp_group']==1]['views'].sum()"
   ]
  },
  {
   "cell_type": "markdown",
   "id": "8fae51b2-cc8a-4357-81fd-573817cbb3a4",
   "metadata": {},
   "source": [
    "Посчитаем в обеих группах поюзерную метрику $$ 𝑙𝑖𝑛𝑒𝑎𝑟𝑖𝑧𝑒𝑑𝑙𝑖𝑘𝑒𝑠=𝑙𝑖𝑘𝑒𝑠−𝐶𝑇𝑅𝑐𝑜𝑛𝑡𝑟𝑜𝑙∗𝑣𝑖𝑒𝑤𝑠 $$  \n"
   ]
  },
  {
   "cell_type": "code",
   "execution_count": 4,
   "id": "e8f4c71b-459e-43e6-a515-3cd4f882dcca",
   "metadata": {},
   "outputs": [],
   "source": [
    "df_1_2['linearized_likes'] = df_1_2.apply(lambda row: row['likes'] - ctr_control_1 * row['views'], axis=1)"
   ]
  },
  {
   "cell_type": "markdown",
   "id": "21a9e807-41c2-4f7a-8aa8-934336974fc3",
   "metadata": {},
   "source": [
    "Выполним визуализацию полученной метрики по группам и посмотрим, заметны ли отличия визуально"
   ]
  },
  {
   "cell_type": "code",
   "execution_count": 5,
   "id": "1e9ab5b5-9a79-4ef6-a070-ca718a868af6",
   "metadata": {},
   "outputs": [
    {
     "data": {
      "image/png": "[encoded data removed]",
      "text/plain": [
       "<Figure size 936x576 with 1 Axes>"
      ]
     },
     "metadata": {
      "needs_background": "light"
     },
     "output_type": "display_data"
    }
   ],
   "source": [
    "fig, ax = plt.subplots(figsize=(13, 8))\n",
    "sns.set_theme()\n",
    "g = sns.histplot(df_1_2[df_1_2['exp_group']==1]['linearized_likes'], color='blue', alpha=0.5, label='группа №1')\n",
    "g = sns.histplot(df_1_2[df_1_2['exp_group']==2]['linearized_likes'], color='red', alpha=0.5, label='группа №2')\n",
    "plt.title(\"Распределение linerized_likes двух групп\")\n",
    "plt.xlabel(\"linerized_likes\")\n",
    "plt.legend()\n",
    "plt.show()"
   ]
  },
  {
   "cell_type": "markdown",
   "id": "60db0c24-2e62-40a6-8942-3050d0f2e103",
   "metadata": {},
   "source": [
    "Как мы видим на графике, действительно заметны различия между группами, но не понятно в какую из сторон, т.к. характер распределения метрики `linerized_likes` второй группы бимодальный и имеет больший диапазон значений."
   ]
  },
  {
   "cell_type": "markdown",
   "id": "4f4b384f-89e3-4d8a-b5ce-07168f714eaa",
   "metadata": {},
   "source": [
    "Сравним получившиеся значения `t-тестом` по новой метрике, для выявления отличий "
   ]
  },
  {
   "cell_type": "code",
   "execution_count": 6,
   "id": "7c5ff2a0-2de1-4787-8449-fbc8891ff52c",
   "metadata": {},
   "outputs": [
    {
     "data": {
      "text/plain": [
       "Ttest_indResult(statistic=6.122579994775973, pvalue=9.439432187037712e-10)"
      ]
     },
     "execution_count": 6,
     "metadata": {},
     "output_type": "execute_result"
    }
   ],
   "source": [
    "group_1 = df_1_2[df_1_2['exp_group']==1]['linearized_likes']\n",
    "group_2 = df_1_2[df_1_2['exp_group']==2]['linearized_likes']\n",
    "stats.ttest_ind(group_1, group_2, equal_var=False)"
   ]
  },
  {
   "cell_type": "markdown",
   "id": "18319fe3-5b60-4f18-90b7-481851e7e2ce",
   "metadata": {
    "tags": []
   },
   "source": [
    "***Вывод:*** `t-тест` между группами показал отличие в новой метрики, исходя из идеи, если имеются отличия между группами в новой метрики, то и есть отличия между исходной метрикой. Однако в ходе анализа исходной метрики мы убедились, что отличий нет. \n",
    "\n",
    "В результате тестирования данной метрики мы получили достаточно оснований, чтобы отклонить нулевую гипотезу (`H0`) и принять альтернативную, далее можно рассматривать идею, о внедрении новой рекомендательной системы на основании исходной метрики.\n",
    "\n",
    "Т.к. получившая метрика оказалась хуже, то следовательно принимают новый алгоритм будет не целесообразно"
   ]
  },
  {
   "cell_type": "markdown",
   "id": "65b200b4-a3d8-4072-931b-3d08e6983259",
   "metadata": {},
   "source": [
    "---"
   ]
  },
  {
   "cell_type": "markdown",
   "id": "1b257f91-8e1b-462e-85a0-601bb08ddc92",
   "metadata": {},
   "source": [
    "#### Анализ результатов между группами 0 и 3"
   ]
  },
  {
   "cell_type": "code",
   "execution_count": 7,
   "id": "c863633b-d805-4eb6-b212-1923368c9287",
   "metadata": {},
   "outputs": [],
   "source": [
    "connection = {\n",
    "                'host': 'https://clickhouse.lab.karpov.courses',\n",
    "                'database':'simulator_20230520',\n",
    "                'user':'student', \n",
    "                'password':'dpo_python_2020'\n",
    "            }\n",
    "\n",
    "\n",
    "q = '''\n",
    "SELECT exp_group, \n",
    "    user_id,\n",
    "    sum(action = 'like') as likes,\n",
    "    sum(action = 'view') as views,\n",
    "    likes/views as ctr\n",
    "FROM {db}.feed_actions \n",
    "WHERE toDate(time) between '2023-05-01' and '2023-05-07'\n",
    "    and exp_group in (0,3)\n",
    "GROUP BY exp_group, user_id\n",
    "'''\n",
    "\n",
    "# Выполняем запрос к БД\n",
    "df_0_3 = ph.read_clickhouse(q, connection=connection)"
   ]
  },
  {
   "cell_type": "markdown",
   "id": "3549ec7b-6242-4986-a3fa-fd72af7e4331",
   "metadata": {},
   "source": [
    "Посчитаем общий ctr в контрольной группе"
   ]
  },
  {
   "cell_type": "code",
   "execution_count": 8,
   "id": "70aef094-626b-452c-9979-ff7a29bafa04",
   "metadata": {},
   "outputs": [],
   "source": [
    "ctr_control_0 = df_0_3[df_0_3['exp_group']==0]['likes'].sum() / df_0_3[df_0_3['exp_group']==0]['views'].sum()"
   ]
  },
  {
   "cell_type": "markdown",
   "id": "9252f495-79c5-4eb9-85a1-f0ceea648c5e",
   "metadata": {},
   "source": [
    "Посчитаем в обеих группах поюзерную метрику $$ 𝑙𝑖𝑛𝑒𝑎𝑟𝑖𝑧𝑒𝑑𝑙𝑖𝑘𝑒𝑠=𝑙𝑖𝑘𝑒𝑠−𝐶𝑇𝑅𝑐𝑜𝑛𝑡𝑟𝑜𝑙∗𝑣𝑖𝑒𝑤𝑠 $$"
   ]
  },
  {
   "cell_type": "code",
   "execution_count": 9,
   "id": "b31e74cc-841c-49ef-9b4c-3bee109bb92a",
   "metadata": {
    "tags": []
   },
   "outputs": [],
   "source": [
    "df_0_3['linearized_likes'] = df_0_3.apply(lambda row: row['likes'] - ctr_control_0 * row['views'], axis=1)"
   ]
  },
  {
   "cell_type": "markdown",
   "id": "2fb74a8b-43f7-4021-8929-467484f6d5cd",
   "metadata": {},
   "source": [
    "Выполним визуализацию полученной метрики по группам и посмотрим, заметны ли отличия визуально"
   ]
  },
  {
   "cell_type": "code",
   "execution_count": 10,
   "id": "e167977b-d2d8-4554-85a0-88c5b91928db",
   "metadata": {
    "tags": []
   },
   "outputs": [
    {
     "data": {
      "image/png": "[encoded data removed]",
      "text/plain": [
       "<Figure size 936x576 with 1 Axes>"
      ]
     },
     "metadata": {},
     "output_type": "display_data"
    }
   ],
   "source": [
    "fig, ax = plt.subplots(figsize=(13, 8))\n",
    "sns.set_theme()\n",
    "g = sns.histplot(df_0_3[df_0_3['exp_group']==0]['linearized_likes'], color='blue', alpha=0.5, label='группа №1')\n",
    "g = sns.histplot(df_0_3[df_0_3['exp_group']==3]['linearized_likes'], color='red', alpha=0.5, label='группа №2')\n",
    "plt.title(\"Распределение linerized_likes двух групп\")\n",
    "plt.xlabel(\"linerized_likes\")\n",
    "plt.legend()\n",
    "plt.show()"
   ]
  },
  {
   "cell_type": "markdown",
   "id": "5052c0a5-379f-47aa-b917-91bc32e990d1",
   "metadata": {},
   "source": [
    "Как мы видим наглядно, действительно имеются различия между группами, однако графики выглядят одинаково, но `ctr` второй группы смещен вправо"
   ]
  },
  {
   "cell_type": "markdown",
   "id": "5f825b4b-0f22-4151-9be7-3b90e7dac88d",
   "metadata": {},
   "source": [
    "Сравним получившиеся значения `t-тестом` по новой метрике, для выявления отличий"
   ]
  },
  {
   "cell_type": "code",
   "execution_count": 11,
   "id": "623cdcea-fbcd-4850-af80-834eafc8deca",
   "metadata": {},
   "outputs": [
    {
     "data": {
      "text/plain": [
       "Ttest_indResult(statistic=-15.21499546090383, pvalue=5.491424947968532e-52)"
      ]
     },
     "execution_count": 11,
     "metadata": {},
     "output_type": "execute_result"
    }
   ],
   "source": [
    "group_1 = df_0_3[df_0_3['exp_group']==0]['linearized_likes']\n",
    "group_2 = df_0_3[df_0_3['exp_group']==3]['linearized_likes']\n",
    "stats.ttest_ind(group_1, group_2, equal_var=False)"
   ]
  },
  {
   "cell_type": "markdown",
   "id": "1f1dca94-262f-452c-a8a0-227cc8ff73d4",
   "metadata": {},
   "source": [
    "***Вывод:*** `t-тест` между группами показал отличие в новой метрики, исходя из идеи, если имеются отличия между группами в новой метрики, то и есть отличия между исходной метрикой. \n",
    "\n",
    "В результате тестирования данной метрики мы получили достаточно оснований, чтобы отклонить нулевую гипотезу (`H0`) и принять альтернативную, далее можно рассматривать идею, о внедрении новой рекомендательной системы на основании исходной метрики."
   ]
  },
  {
   "cell_type": "markdown",
   "id": "84a8b91a-b14a-4788-a434-57fc37e04fb7",
   "metadata": {},
   "source": [
    "Определим действительно ли новая рекомендательная система лучше, для этого посчитаем `ctr` двух групп по исходной метрике"
   ]
  },
  {
   "cell_type": "code",
   "execution_count": 12,
   "id": "4b3edcec-4661-4dc3-97a5-82efdfb47552",
   "metadata": {},
   "outputs": [
    {
     "name": "stdout",
     "output_type": "stream",
     "text": [
      "ctr 0 группы 0.208\n",
      "ctr 3 группы 0.224\n"
     ]
    }
   ],
   "source": [
    "ctr_0 = df_0_3[df_0_3['exp_group']==0]['likes'].sum() / df_0_3[df_0_3['exp_group']==0]['views'].sum()\n",
    "ctr_3 = df_0_3[df_0_3['exp_group']==3]['likes'].sum() / df_0_3[df_0_3['exp_group']==3]['views'].sum()\n",
    "\n",
    "print(f'ctr 0 группы {round(ctr_0, 3)}\\nctr 3 группы {round(ctr_3,3)}')"
   ]
  },
  {
   "cell_type": "markdown",
   "id": "1bd5339e-713f-4976-b1ab-4a495d33304a",
   "metadata": {},
   "source": [
    "***Как мы видим, что `ctr` целевой группы действительно получился лучше и т.к. наш анализ статистической значимости удался, мы отклонили `H0`, то мы имеет все основания утвержать, что вторая рекомендательная система лучше и ее можно вводить в наш сервис***"
   ]
  }
 ],
 "metadata": {
  "kernelspec": {
   "display_name": "Python 3 (ipykernel)",
   "language": "python",
   "name": "python3"
  },
  "language_info": {
   "codemirror_mode": {
    "name": "ipython",
    "version": 3
   },
   "file_extension": ".py",
   "mimetype": "text/x-python",
   "name": "python",
   "nbconvert_exporter": "python",
   "pygments_lexer": "ipython3",
   "version": "3.8.10"
  }
 },
 "nbformat": 4,
 "nbformat_minor": 5
}
