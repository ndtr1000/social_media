{
 "cells": [
  {
   "cell_type": "markdown",
   "id": "fdcdf1a0-57a2-4327-a913-11a6d84d007f",
   "metadata": {},
   "source": [
    "# Анализ эффективности системы сплитования \n",
    "\n",
    "Задача проверить, корректно ли работает наша система сплитования и убедиться, что ключевая метрика не отличается между группами не только в конкретно нашем АА-тесте, но и в целом между группами.\n",
    "\n",
    "Т.к. мы знаем что у нас будет проводиться два теста систем рекомендация между группами 1 и 2, а также между группами 0 и 3. Для этого сначала сравним между собой целевые группы, нет ли там различий между `ctr`, а далее проведем АА тесты между группами 1 и 2, 0 и 3.\n",
    "\n",
    "Для этого проведем `t-тест` 10000 раз на наших группах и оценим их распределение получившихся значений `p-value`"
   ]
  },
  {
   "cell_type": "markdown",
   "id": "f7818bf8-9c01-4c66-9762-d9f553712323",
   "metadata": {},
   "source": [
    "---"
   ]
  },
  {
   "cell_type": "markdown",
   "id": "ff224ff6-2a0b-420c-8b48-4f4f5ef8502e",
   "metadata": {},
   "source": [
    "Выполняем импортирование нужных библиотек"
   ]
  },
  {
   "cell_type": "code",
   "execution_count": 2,
   "id": "390889c1-205a-4153-836a-ab2c63b400ea",
   "metadata": {},
   "outputs": [],
   "source": [
    "import pandahouse as ph\n",
    "import pandas as pd\n",
    "import matplotlib.pyplot as plt\n",
    "import seaborn as sns\n",
    "from scipy import stats\n",
    "%matplotlib inline"
   ]
  },
  {
   "cell_type": "markdown",
   "id": "999d240c-a733-488f-a965-8e1cce870425",
   "metadata": {},
   "source": [
    "### АА тест между группами 2 и 3"
   ]
  },
  {
   "cell_type": "markdown",
   "id": "98fe64e7-fc08-4b8f-aba0-74dd6a1b0947",
   "metadata": {},
   "source": [
    "Подключаемся к `clickhouse` и вытягиваем экспериментальную группу пользователя, его`id`, его количество лайков, количество просмотров и `ctr` каждого пользователя "
   ]
  },
  {
   "cell_type": "code",
   "execution_count": 3,
   "id": "4648b918-9312-4357-b95f-de2be285594d",
   "metadata": {},
   "outputs": [],
   "source": [
    "connection = {\n",
    "                'host': 'https://clickhouse.lab.karpov.courses',\n",
    "                'database':'simulator_20230520',\n",
    "                'user':'student', \n",
    "                'password':'dpo_python_2020'\n",
    "            }\n",
    "\n",
    "query = '''\n",
    "SELECT exp_group, \n",
    "    user_id,\n",
    "    sum(action = 'like') as likes,\n",
    "    sum(action = 'view') as views,\n",
    "    likes/views as ctr\n",
    "FROM {db}.feed_actions \n",
    "WHERE toDate(time) between '2023-04-24' and '2023-04-30'\n",
    "    and exp_group in (2,3)\n",
    "GROUP BY exp_group, user_id\n",
    "'''\n",
    "\n",
    "\n",
    "# Выполняем запрос к БД\n",
    "df = ph.read_clickhouse(query, connection=connection)"
   ]
  },
  {
   "cell_type": "markdown",
   "id": "af0303bb-1a8d-4a27-bc84-cb8cb32e32ef",
   "metadata": {},
   "source": [
    "Посмотрим сколько пользователей у нас попало в группы и их статистику"
   ]
  },
  {
   "cell_type": "code",
   "execution_count": 4,
   "id": "73d9451d-8419-470b-87b1-f0f69da549be",
   "metadata": {},
   "outputs": [
    {
     "data": {
      "text/html": [
       "<div>\n",
       "<style scoped>\n",
       "    .dataframe tbody tr th:only-of-type {\n",
       "        vertical-align: middle;\n",
       "    }\n",
       "\n",
       "    .dataframe tbody tr th {\n",
       "        vertical-align: top;\n",
       "    }\n",
       "\n",
       "    .dataframe thead th {\n",
       "        text-align: right;\n",
       "    }\n",
       "</style>\n",
       "<table border=\"1\" class=\"dataframe\">\n",
       "  <thead>\n",
       "    <tr style=\"text-align: right;\">\n",
       "      <th></th>\n",
       "      <th>user_id</th>\n",
       "      <th>likes</th>\n",
       "      <th>views</th>\n",
       "      <th>ctr</th>\n",
       "    </tr>\n",
       "    <tr>\n",
       "      <th>exp_group</th>\n",
       "      <th></th>\n",
       "      <th></th>\n",
       "      <th></th>\n",
       "      <th></th>\n",
       "    </tr>\n",
       "  </thead>\n",
       "  <tbody>\n",
       "    <tr>\n",
       "      <th>2</th>\n",
       "      <td>8480</td>\n",
       "      <td>8480</td>\n",
       "      <td>8480</td>\n",
       "      <td>8480</td>\n",
       "    </tr>\n",
       "    <tr>\n",
       "      <th>3</th>\n",
       "      <td>8569</td>\n",
       "      <td>8569</td>\n",
       "      <td>8569</td>\n",
       "      <td>8569</td>\n",
       "    </tr>\n",
       "  </tbody>\n",
       "</table>\n",
       "</div>"
      ],
      "text/plain": [
       "           user_id  likes  views   ctr\n",
       "exp_group                             \n",
       "2             8480   8480   8480  8480\n",
       "3             8569   8569   8569  8569"
      ]
     },
     "execution_count": 4,
     "metadata": {},
     "output_type": "execute_result"
    }
   ],
   "source": [
    "df.groupby('exp_group').count()"
   ]
  },
  {
   "cell_type": "markdown",
   "id": "9706fb76-f88a-4ed6-a950-8db2b102843c",
   "metadata": {},
   "source": [
    "Убедимся в корректности работы нашей системы сплитования. Для этого проведем АА тест 10000 раз, будем использовать t-тест Стьюдента.\n",
    "\n",
    "Для этого будем извлекать из каждой группы случайно по 250 человек и проводить тест. Далее сформируем список с результатами теста, куда будем складывать получившееся значение `p-value`"
   ]
  },
  {
   "cell_type": "code",
   "execution_count": 5,
   "id": "7fb621d6-323c-4327-bf22-76e6112543f3",
   "metadata": {},
   "outputs": [],
   "source": [
    "results = []\n",
    "for _ in range(10000):\n",
    "    group_2 = df[df['exp_group']==2]['ctr'].sample(n=250)\n",
    "    group_3 = df[df['exp_group']==3]['ctr'].sample(n=250)\n",
    "    res = stats.ttest_ind(group_2, group_3, equal_var=False)\n",
    "    results.append(res[1])"
   ]
  },
  {
   "cell_type": "markdown",
   "id": "12268cdb-29ae-4fe5-8d4e-696f9bcd5a59",
   "metadata": {},
   "source": [
    "Выполним визуализацию полученных результатов"
   ]
  },
  {
   "cell_type": "code",
   "execution_count": 6,
   "id": "e58827d1-b8c4-456a-bd7f-733c138ee75d",
   "metadata": {
    "tags": []
   },
   "outputs": [
    {
     "data": {
      "image/png": "[encoded data removed]",
      "text/plain": [
       "<Figure size 936x576 with 1 Axes>"
      ]
     },
     "metadata": {
      "needs_background": "light"
     },
     "output_type": "display_data"
    }
   ],
   "source": [
    "fig, ax = plt.subplots(figsize=(13, 8))\n",
    "sns.set_theme()\n",
    "sns.histplot(results)\n",
    "plt.title(\"Распределение значения p-value\")\n",
    "plt.xlabel(\"Значение p-value\")\n",
    "plt.show()"
   ]
  },
  {
   "cell_type": "markdown",
   "id": "39b68819-e979-4750-8512-46315daf0c17",
   "metadata": {},
   "source": [
    "Как мы видим, наше значение `p-value` распределено равномерно"
   ]
  },
  {
   "cell_type": "markdown",
   "id": "a4e70432-6f63-4d67-a60a-823af7774784",
   "metadata": {},
   "source": [
    "Посчитаем, сколько раз встречалось значение `p-value` больше 0.05% для того, чтобы понять, корректно ли работает наша система сплитования и различия в `ctr` двух групп получены случайным образом. Т.е. мы ожидаем, что в большинстве раз наш тест будет давать результат, где `p-value` больше 0.05%"
   ]
  },
  {
   "cell_type": "code",
   "execution_count": 7,
   "id": "25348f9b-def6-4970-85fd-927c720a7f7d",
   "metadata": {},
   "outputs": [
    {
     "name": "stdout",
     "output_type": "stream",
     "text": [
      "% количества наблюдений при p-value > 0.05%: 95.19\n"
     ]
    }
   ],
   "source": [
    "print(f'% количества наблюдений при p-value > 0.05%: {round(len([i for i in results if i>0.05]) * 100/ len(results),2)}')"
   ]
  },
  {
   "cell_type": "markdown",
   "id": "9def4646-caaf-4648-9488-cea4b0435802",
   "metadata": {},
   "source": [
    "---\n",
    "\n",
    "***Вывод:*** наша система сплитования работает корректно, т.к. в 95% тестов мы получили результат p_value > 0.05%, что говорит о том, что недостаточно оснований отклонить нулевую гипотезу. Можно считать, что АА тест прошел успешно."
   ]
  },
  {
   "cell_type": "markdown",
   "id": "070d75c0-8c96-4d41-a4c2-8b4d12989640",
   "metadata": {},
   "source": [
    "### АА тест между группами 1 и 2"
   ]
  },
  {
   "cell_type": "markdown",
   "id": "7923ffd7-916a-417c-8124-bafa2e3a327c",
   "metadata": {},
   "source": [
    "Вытягиваем данные для групп 2 и 3"
   ]
  },
  {
   "cell_type": "code",
   "execution_count": 9,
   "id": "0c372f23-79d2-41ee-bbce-2138f36200a5",
   "metadata": {},
   "outputs": [],
   "source": [
    "query = '''\n",
    "SELECT exp_group, \n",
    "    user_id,\n",
    "    sum(action = 'like') as likes,\n",
    "    sum(action = 'view') as views,\n",
    "    likes/views as ctr\n",
    "FROM {db}.feed_actions \n",
    "WHERE toDate(time) between '2023-04-24' and '2023-04-30'\n",
    "    and exp_group in (1,2)\n",
    "GROUP BY exp_group, user_id\n",
    "'''\n",
    "\n",
    "\n",
    "# Выполняем запрос к БД\n",
    "df_1_2 = ph.read_clickhouse(query, connection=connection)"
   ]
  },
  {
   "cell_type": "markdown",
   "id": "febf5992-641b-4425-933d-23f03d59b571",
   "metadata": {},
   "source": [
    "Выполним `t-тест` между группами 100000 раз и оценим получившиеся значения `p-value`"
   ]
  },
  {
   "cell_type": "code",
   "execution_count": 10,
   "id": "6b8c710b-5a81-4d88-81a6-bcd7ab09a087",
   "metadata": {},
   "outputs": [],
   "source": [
    "results_1_2 = []\n",
    "for _ in range(10000):\n",
    "    group_1 = df_1_2[df_1_2['exp_group']==1]['ctr'].sample(n=250)\n",
    "    group_2 = df_1_2[df_1_2['exp_group']==2]['ctr'].sample(n=250)\n",
    "    res = stats.ttest_ind(group_1, group_2, equal_var=False)\n",
    "    results_1_2.append(res[1])"
   ]
  },
  {
   "cell_type": "markdown",
   "id": "63654426-272d-4b0f-ab13-131a4f8a36a2",
   "metadata": {},
   "source": [
    "Выполним визуализацию полученных результатов"
   ]
  },
  {
   "cell_type": "code",
   "execution_count": 11,
   "id": "347c147e-0a85-4f01-84e3-09073ad53602",
   "metadata": {},
   "outputs": [
    {
     "data": {
      "image/png": "[encoded data removed]",
      "text/plain": [
       "<Figure size 936x576 with 1 Axes>"
      ]
     },
     "metadata": {},
     "output_type": "display_data"
    }
   ],
   "source": [
    "fig, ax = plt.subplots(figsize=(13, 8))\n",
    "sns.set_theme()\n",
    "sns.histplot(results_1_2)\n",
    "plt.title(\"Распределение значения p-value\")\n",
    "plt.xlabel(\"Значение p-value\")\n",
    "plt.show()"
   ]
  },
  {
   "cell_type": "markdown",
   "id": "a91e72f5-9eb9-46c1-a51d-f53bd4097006",
   "metadata": {},
   "source": [
    "Как мы видим распределение равномерное, однако его характер отличается от сравнения между группами 2 и 3. В данном распределении максимум значений как раз таки приходится около ~0"
   ]
  },
  {
   "cell_type": "markdown",
   "id": "9b1d8b6d-48f5-4a95-b235-d5e7a30713c7",
   "metadata": {},
   "source": [
    "Определим количество наблидений при `p-value` > 0.05%"
   ]
  },
  {
   "cell_type": "code",
   "execution_count": 12,
   "id": "62274575-56f8-4a90-aeb5-379a41687f90",
   "metadata": {},
   "outputs": [
    {
     "name": "stdout",
     "output_type": "stream",
     "text": [
      "% количества наблюдений при p-value > 0.05%: 93.75\n"
     ]
    }
   ],
   "source": [
    "print(f'% количества наблюдений при p-value > 0.05%: {round(len([i for i in results_1_2 if i>0.05]) * 100/ len(results_1_2),2)}')"
   ]
  },
  {
   "cell_type": "markdown",
   "id": "2f91bffc-1fb8-4556-8613-e218d7228470",
   "metadata": {},
   "source": [
    "***Вывод:*** наша система сплитования также хорошо работает и действительно отличий между группами нет."
   ]
  },
  {
   "cell_type": "markdown",
   "id": "45294e60-fbd4-44a1-b523-153484112a23",
   "metadata": {},
   "source": [
    "---"
   ]
  },
  {
   "cell_type": "markdown",
   "id": "afb38ea3-92b4-4640-824e-7a5014868d02",
   "metadata": {},
   "source": [
    "### АА тест между группами 0 и 3"
   ]
  },
  {
   "cell_type": "markdown",
   "id": "ad02bd5f-f1f3-4e60-a17f-183d344218a2",
   "metadata": {},
   "source": [
    "Вытягиваем данные для групп 0 и 3"
   ]
  },
  {
   "cell_type": "code",
   "execution_count": 13,
   "id": "fbe52ea1-ab7a-4e01-8f83-57a4e16e72ce",
   "metadata": {},
   "outputs": [],
   "source": [
    "query = '''\n",
    "SELECT exp_group, \n",
    "    user_id,\n",
    "    sum(action = 'like') as likes,\n",
    "    sum(action = 'view') as views,\n",
    "    likes/views as ctr\n",
    "FROM {db}.feed_actions \n",
    "WHERE toDate(time) between '2023-04-24' and '2023-04-30'\n",
    "    and exp_group in (0,3)\n",
    "GROUP BY exp_group, user_id\n",
    "'''\n",
    "\n",
    "\n",
    "# Выполняем запрос к БД\n",
    "df_0_3 = ph.read_clickhouse(query, connection=connection)"
   ]
  },
  {
   "cell_type": "markdown",
   "id": "535a695e-5faf-4194-82b5-f3eb1a08fc43",
   "metadata": {},
   "source": [
    "Выполним `t-тест` между группами 100000 раз и оценим получившиеся значения `p-value`"
   ]
  },
  {
   "cell_type": "code",
   "execution_count": 15,
   "id": "9847f171-b96a-45cb-8a85-8451515ee853",
   "metadata": {},
   "outputs": [],
   "source": [
    "results_0_3 = []\n",
    "for _ in range(10000):\n",
    "    group_1 = df_0_3[df_0_3['exp_group']==0]['ctr'].sample(n=250)\n",
    "    group_2 = df_0_3[df_0_3['exp_group']==3]['ctr'].sample(n=250)\n",
    "    res = stats.ttest_ind(group_1, group_2, equal_var=False)\n",
    "    results_0_3.append(res[1])"
   ]
  },
  {
   "cell_type": "markdown",
   "id": "066af3ca-d8de-4b1f-8757-b4223a98720f",
   "metadata": {},
   "source": [
    "Выполним визуализацию полученных результатов"
   ]
  },
  {
   "cell_type": "code",
   "execution_count": 16,
   "id": "64252b62-e29d-4c21-bf67-45bb45c9ea12",
   "metadata": {},
   "outputs": [
    {
     "data": {
      "image/png": "[encoded data removed]",
      "text/plain": [
       "<Figure size 936x576 with 1 Axes>"
      ]
     },
     "metadata": {},
     "output_type": "display_data"
    }
   ],
   "source": [
    "fig, ax = plt.subplots(figsize=(13, 8))\n",
    "sns.set_theme()\n",
    "sns.histplot(results_1_2)\n",
    "plt.title(\"Распределение значения p-value\")\n",
    "plt.xlabel(\"Значение p-value\")\n",
    "plt.show()"
   ]
  },
  {
   "cell_type": "markdown",
   "id": "0df5d334-d3c6-43a9-8f09-0c8bdc5471a9",
   "metadata": {},
   "source": [
    "Определим количество наблидений при `p-value` > 0.05%"
   ]
  },
  {
   "cell_type": "code",
   "execution_count": 17,
   "id": "46a987eb-fff4-465e-9e83-70c5021ae6b8",
   "metadata": {},
   "outputs": [
    {
     "name": "stdout",
     "output_type": "stream",
     "text": [
      "% количества наблюдений при p-value > 0.05%: 95.06\n"
     ]
    }
   ],
   "source": [
    "print(f'% количества наблюдений при p-value > 0.05%: {round(len([i for i in results_0_3 if i>0.05]) * 100/ len(results_0_3),2)}')"
   ]
  },
  {
   "cell_type": "markdown",
   "id": "8d054eec-ec98-44f1-b6f4-40de7d939e9e",
   "metadata": {},
   "source": [
    "***Вывод:*** мы убедились, что отличий между группами нет, т.к. БОЛЬШЕЕ количество значений `p-value` > 0.05%"
   ]
  }
 ],
 "metadata": {
  "kernelspec": {
   "display_name": "Python 3 (ipykernel)",
   "language": "python",
   "name": "python3"
  },
  "language_info": {
   "codemirror_mode": {
    "name": "ipython",
    "version": 3
   },
   "file_extension": ".py",
   "mimetype": "text/x-python",
   "name": "python",
   "nbconvert_exporter": "python",
   "pygments_lexer": "ipython3",
   "version": "3.8.10"
  }
 },
 "nbformat": 4,
 "nbformat_minor": 5
}
